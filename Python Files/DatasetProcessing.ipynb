{
  "nbformat": 4,
  "nbformat_minor": 0,
  "metadata": {
    "colab": {
      "name": "DatasetProcessing.ipynb",
      "provenance": []
    },
    "kernelspec": {
      "name": "python3",
      "display_name": "Python 3"
    }
  },
  "cells": [
    {
      "cell_type": "markdown",
      "metadata": {
        "id": "7xDGzfQM6sAB"
      },
      "source": [
        "# Dataset Processing\r\n",
        "\r\n",
        "This notebook converts data from .csv to DataFrame for processing."
      ]
    },
    {
      "cell_type": "code",
      "metadata": {
        "colab": {
          "base_uri": "https://localhost:8080/"
        },
        "id": "ZLVncjG3_SvA",
        "outputId": "99d02059-807f-468e-c12b-032d5d592090"
      },
      "source": [
        "from google.colab import drive\r\n",
        "drive.mount('/content/drive')"
      ],
      "execution_count": null,
      "outputs": [
        {
          "output_type": "stream",
          "text": [
            "Drive already mounted at /content/drive; to attempt to forcibly remount, call drive.mount(\"/content/drive\", force_remount=True).\n"
          ],
          "name": "stdout"
        }
      ]
    },
    {
      "cell_type": "code",
      "metadata": {
        "colab": {
          "base_uri": "https://localhost:8080/"
        },
        "id": "eRqkzjDv_aZp",
        "outputId": "c59cda01-6b75-4de5-e227-f47025ccfe23"
      },
      "source": [
        "%pwd\r\n",
        "%cd 'drive'\r\n",
        "%cd 'My Drive'\r\n",
        "%cd 'BSc Project Coding'"
      ],
      "execution_count": null,
      "outputs": [
        {
          "output_type": "stream",
          "text": [
            "/content/drive\n",
            "/content/drive/My Drive\n",
            "/content/drive/My Drive/BSc Project Coding\n"
          ],
          "name": "stdout"
        }
      ]
    },
    {
      "cell_type": "code",
      "metadata": {
        "id": "PD0aGuq2A3xv"
      },
      "source": [
        "import pandas as pd\r\n",
        "import numpy as np\r\n",
        "import os"
      ],
      "execution_count": null,
      "outputs": []
    },
    {
      "cell_type": "code",
      "metadata": {
        "id": "765554IT67BU"
      },
      "source": [
        "data1 = pd.read_csv('Dataset.csv')"
      ],
      "execution_count": null,
      "outputs": []
    },
    {
      "cell_type": "code",
      "metadata": {
        "id": "BCaI_SQL68KA",
        "colab": {
          "base_uri": "https://localhost:8080/",
          "height": 195
        },
        "outputId": "252fef77-9068-4b30-9657-2e0e57cceec5"
      },
      "source": [
        "data1.head()"
      ],
      "execution_count": null,
      "outputs": [
        {
          "output_type": "execute_result",
          "data": {
            "text/html": [
              "<div>\n",
              "<style scoped>\n",
              "    .dataframe tbody tr th:only-of-type {\n",
              "        vertical-align: middle;\n",
              "    }\n",
              "\n",
              "    .dataframe tbody tr th {\n",
              "        vertical-align: top;\n",
              "    }\n",
              "\n",
              "    .dataframe thead th {\n",
              "        text-align: right;\n",
              "    }\n",
              "</style>\n",
              "<table border=\"1\" class=\"dataframe\">\n",
              "  <thead>\n",
              "    <tr style=\"text-align: right;\">\n",
              "      <th></th>\n",
              "      <th>Question</th>\n",
              "      <th>Answer 1</th>\n",
              "      <th>Answer 2</th>\n",
              "      <th>Answer 3</th>\n",
              "      <th>Answer 4</th>\n",
              "      <th>Answer 5</th>\n",
              "      <th>Explanation</th>\n",
              "      <th>Author</th>\n",
              "    </tr>\n",
              "  </thead>\n",
              "  <tbody>\n",
              "    <tr>\n",
              "      <th>0</th>\n",
              "      <td>The runtime for the following code fragment is...</td>\n",
              "      <td>nlogn\\n</td>\n",
              "      <td>n^2\\n</td>\n",
              "      <td>n^2(logn)\\n</td>\n",
              "      <td>n^3\\n</td>\n",
              "      <td>None of the above\\n</td>\n",
              "      <td>NaN</td>\n",
              "      <td>wd371 (wd371)\\n</td>\n",
              "    </tr>\n",
              "    <tr>\n",
              "      <th>1</th>\n",
              "      <td>Given the binary search algorithm, as taught i...</td>\n",
              "      <td>1 iteration\\n</td>\n",
              "      <td>2 iterations\\n</td>\n",
              "      <td>3 iterations\\n</td>\n",
              "      <td>4 iterations\\n</td>\n",
              "      <td>NaN</td>\n",
              "      <td>NaN</td>\n",
              "      <td>wd371 (wd371)\\n</td>\n",
              "    </tr>\n",
              "    <tr>\n",
              "      <th>2</th>\n",
              "      <td>An algorithm has time complexity . Using the D...</td>\n",
              "      <td>b = 12\\n</td>\n",
              "      <td>b = -4\\n</td>\n",
              "      <td>b = 6\\n</td>\n",
              "      <td>b = 9\\n</td>\n",
              "      <td>b = 0\\n</td>\n",
              "      <td>Solve for the roots of |T(N)|=4N^2. The roots ...</td>\n",
              "      <td>NaN</td>\n",
              "    </tr>\n",
              "    <tr>\n",
              "      <th>3</th>\n",
              "      <td>Which one of the following sorting algorithms ...</td>\n",
              "      <td>Selection sort\\n</td>\n",
              "      <td>Insertion sort\\n</td>\n",
              "      <td>Bubble sort\\n</td>\n",
              "      <td>Merge sort\\n</td>\n",
              "      <td>Quick\\n</td>\n",
              "      <td>NaN</td>\n",
              "      <td>aa2955 (aa2955)\\n</td>\n",
              "    </tr>\n",
              "    <tr>\n",
              "      <th>4</th>\n",
              "      <td>Given the tree: a / \\ b c / \\ / \\ e f g hWhat ...</td>\n",
              "      <td>ebfagch\\n</td>\n",
              "      <td>abefcgh\\n</td>\n",
              "      <td>efbghca\\n</td>\n",
              "      <td>abcefgh\\n</td>\n",
              "      <td>NaN</td>\n",
              "      <td>For the in order traversal we start from the r...</td>\n",
              "      <td>NaN</td>\n",
              "    </tr>\n",
              "  </tbody>\n",
              "</table>\n",
              "</div>"
            ],
            "text/plain": [
              "                                            Question  ...             Author\n",
              "0  The runtime for the following code fragment is...  ...    wd371 (wd371)\\n\n",
              "1  Given the binary search algorithm, as taught i...  ...    wd371 (wd371)\\n\n",
              "2  An algorithm has time complexity . Using the D...  ...                NaN\n",
              "3  Which one of the following sorting algorithms ...  ...  aa2955 (aa2955)\\n\n",
              "4  Given the tree: a / \\ b c / \\ / \\ e f g hWhat ...  ...                NaN\n",
              "\n",
              "[5 rows x 8 columns]"
            ]
          },
          "metadata": {
            "tags": []
          },
          "execution_count": 22
        }
      ]
    },
    {
      "cell_type": "code",
      "metadata": {
        "colab": {
          "base_uri": "https://localhost:8080/"
        },
        "id": "VyoBK2E_C7tg",
        "outputId": "1a1b99d9-70df-4689-b942-e8e09974abab"
      },
      "source": [
        "data1.shape"
      ],
      "execution_count": null,
      "outputs": [
        {
          "output_type": "execute_result",
          "data": {
            "text/plain": [
              "(1078, 8)"
            ]
          },
          "metadata": {
            "tags": []
          },
          "execution_count": 23
        }
      ]
    },
    {
      "cell_type": "code",
      "metadata": {
        "colab": {
          "base_uri": "https://localhost:8080/",
          "height": 195
        },
        "id": "0WHroZFiDvqk",
        "outputId": "9aafab9c-35ba-4066-900d-107d077f1609"
      },
      "source": [
        "data1 = data1.drop(columns=['Author'], axis=1)\r\n",
        "data1.head()"
      ],
      "execution_count": null,
      "outputs": [
        {
          "output_type": "execute_result",
          "data": {
            "text/html": [
              "<div>\n",
              "<style scoped>\n",
              "    .dataframe tbody tr th:only-of-type {\n",
              "        vertical-align: middle;\n",
              "    }\n",
              "\n",
              "    .dataframe tbody tr th {\n",
              "        vertical-align: top;\n",
              "    }\n",
              "\n",
              "    .dataframe thead th {\n",
              "        text-align: right;\n",
              "    }\n",
              "</style>\n",
              "<table border=\"1\" class=\"dataframe\">\n",
              "  <thead>\n",
              "    <tr style=\"text-align: right;\">\n",
              "      <th></th>\n",
              "      <th>Question</th>\n",
              "      <th>Answer 1</th>\n",
              "      <th>Answer 2</th>\n",
              "      <th>Answer 3</th>\n",
              "      <th>Answer 4</th>\n",
              "      <th>Answer 5</th>\n",
              "      <th>Explanation</th>\n",
              "    </tr>\n",
              "  </thead>\n",
              "  <tbody>\n",
              "    <tr>\n",
              "      <th>0</th>\n",
              "      <td>The runtime for the following code fragment is...</td>\n",
              "      <td>nlogn\\n</td>\n",
              "      <td>n^2\\n</td>\n",
              "      <td>n^2(logn)\\n</td>\n",
              "      <td>n^3\\n</td>\n",
              "      <td>None of the above\\n</td>\n",
              "      <td>NaN</td>\n",
              "    </tr>\n",
              "    <tr>\n",
              "      <th>1</th>\n",
              "      <td>Given the binary search algorithm, as taught i...</td>\n",
              "      <td>1 iteration\\n</td>\n",
              "      <td>2 iterations\\n</td>\n",
              "      <td>3 iterations\\n</td>\n",
              "      <td>4 iterations\\n</td>\n",
              "      <td>NaN</td>\n",
              "      <td>NaN</td>\n",
              "    </tr>\n",
              "    <tr>\n",
              "      <th>2</th>\n",
              "      <td>An algorithm has time complexity . Using the D...</td>\n",
              "      <td>b = 12\\n</td>\n",
              "      <td>b = -4\\n</td>\n",
              "      <td>b = 6\\n</td>\n",
              "      <td>b = 9\\n</td>\n",
              "      <td>b = 0\\n</td>\n",
              "      <td>Solve for the roots of |T(N)|=4N^2. The roots ...</td>\n",
              "    </tr>\n",
              "    <tr>\n",
              "      <th>3</th>\n",
              "      <td>Which one of the following sorting algorithms ...</td>\n",
              "      <td>Selection sort\\n</td>\n",
              "      <td>Insertion sort\\n</td>\n",
              "      <td>Bubble sort\\n</td>\n",
              "      <td>Merge sort\\n</td>\n",
              "      <td>Quick\\n</td>\n",
              "      <td>NaN</td>\n",
              "    </tr>\n",
              "    <tr>\n",
              "      <th>4</th>\n",
              "      <td>Given the tree: a / \\ b c / \\ / \\ e f g hWhat ...</td>\n",
              "      <td>ebfagch\\n</td>\n",
              "      <td>abefcgh\\n</td>\n",
              "      <td>efbghca\\n</td>\n",
              "      <td>abcefgh\\n</td>\n",
              "      <td>NaN</td>\n",
              "      <td>For the in order traversal we start from the r...</td>\n",
              "    </tr>\n",
              "  </tbody>\n",
              "</table>\n",
              "</div>"
            ],
            "text/plain": [
              "                                            Question  ...                                        Explanation\n",
              "0  The runtime for the following code fragment is...  ...                                                NaN\n",
              "1  Given the binary search algorithm, as taught i...  ...                                                NaN\n",
              "2  An algorithm has time complexity . Using the D...  ...  Solve for the roots of |T(N)|=4N^2. The roots ...\n",
              "3  Which one of the following sorting algorithms ...  ...                                                NaN\n",
              "4  Given the tree: a / \\ b c / \\ / \\ e f g hWhat ...  ...  For the in order traversal we start from the r...\n",
              "\n",
              "[5 rows x 7 columns]"
            ]
          },
          "metadata": {
            "tags": []
          },
          "execution_count": 24
        }
      ]
    },
    {
      "cell_type": "code",
      "metadata": {
        "id": "qec2Cg4RE3ND"
      },
      "source": [
        "data1[\"Q+A\"] = data1[\"Question\"].astype(str) + data1[\"Answer 1\"].astype(str) + data1[\"Answer 2\"].astype(str) + data1[\"Answer 3\"].astype(str) + data1[\"Answer 4\"].astype(str) + data1[\"Answer 5\"].astype(str)\r\n",
        "data1[\"Q+E\"] = data1[\"Question\"].astype(str) + data1[\"Explanation\"].astype(str)\r\n",
        "data1[\"Q+A+E\"] = data1[\"Q+A\"].astype(str) + data1[\"Explanation\"].astype(str)"
      ],
      "execution_count": null,
      "outputs": []
    },
    {
      "cell_type": "code",
      "metadata": {
        "colab": {
          "base_uri": "https://localhost:8080/",
          "height": 195
        },
        "id": "VL1c7hGlEVJX",
        "outputId": "07d8d2ff-7c24-4513-cb01-12faa244ad79"
      },
      "source": [
        "data1 = data1.drop(columns=['Answer 1', 'Answer 2', 'Answer 3', 'Answer 4', 'Answer 5', 'Explanation'], axis=1)\r\n",
        "data1.head()"
      ],
      "execution_count": null,
      "outputs": [
        {
          "output_type": "execute_result",
          "data": {
            "text/html": [
              "<div>\n",
              "<style scoped>\n",
              "    .dataframe tbody tr th:only-of-type {\n",
              "        vertical-align: middle;\n",
              "    }\n",
              "\n",
              "    .dataframe tbody tr th {\n",
              "        vertical-align: top;\n",
              "    }\n",
              "\n",
              "    .dataframe thead th {\n",
              "        text-align: right;\n",
              "    }\n",
              "</style>\n",
              "<table border=\"1\" class=\"dataframe\">\n",
              "  <thead>\n",
              "    <tr style=\"text-align: right;\">\n",
              "      <th></th>\n",
              "      <th>Question</th>\n",
              "      <th>Q+A</th>\n",
              "      <th>Q+E</th>\n",
              "      <th>Q+A+E</th>\n",
              "    </tr>\n",
              "  </thead>\n",
              "  <tbody>\n",
              "    <tr>\n",
              "      <th>0</th>\n",
              "      <td>The runtime for the following code fragment is...</td>\n",
              "      <td>The runtime for the following code fragment is...</td>\n",
              "      <td>The runtime for the following code fragment is...</td>\n",
              "      <td>The runtime for the following code fragment is...</td>\n",
              "    </tr>\n",
              "    <tr>\n",
              "      <th>1</th>\n",
              "      <td>Given the binary search algorithm, as taught i...</td>\n",
              "      <td>Given the binary search algorithm, as taught i...</td>\n",
              "      <td>Given the binary search algorithm, as taught i...</td>\n",
              "      <td>Given the binary search algorithm, as taught i...</td>\n",
              "    </tr>\n",
              "    <tr>\n",
              "      <th>2</th>\n",
              "      <td>An algorithm has time complexity . Using the D...</td>\n",
              "      <td>An algorithm has time complexity . Using the D...</td>\n",
              "      <td>An algorithm has time complexity . Using the D...</td>\n",
              "      <td>An algorithm has time complexity . Using the D...</td>\n",
              "    </tr>\n",
              "    <tr>\n",
              "      <th>3</th>\n",
              "      <td>Which one of the following sorting algorithms ...</td>\n",
              "      <td>Which one of the following sorting algorithms ...</td>\n",
              "      <td>Which one of the following sorting algorithms ...</td>\n",
              "      <td>Which one of the following sorting algorithms ...</td>\n",
              "    </tr>\n",
              "    <tr>\n",
              "      <th>4</th>\n",
              "      <td>Given the tree: a / \\ b c / \\ / \\ e f g hWhat ...</td>\n",
              "      <td>Given the tree: a / \\ b c / \\ / \\ e f g hWhat ...</td>\n",
              "      <td>Given the tree: a / \\ b c / \\ / \\ e f g hWhat ...</td>\n",
              "      <td>Given the tree: a / \\ b c / \\ / \\ e f g hWhat ...</td>\n",
              "    </tr>\n",
              "  </tbody>\n",
              "</table>\n",
              "</div>"
            ],
            "text/plain": [
              "                                            Question  ...                                              Q+A+E\n",
              "0  The runtime for the following code fragment is...  ...  The runtime for the following code fragment is...\n",
              "1  Given the binary search algorithm, as taught i...  ...  Given the binary search algorithm, as taught i...\n",
              "2  An algorithm has time complexity . Using the D...  ...  An algorithm has time complexity . Using the D...\n",
              "3  Which one of the following sorting algorithms ...  ...  Which one of the following sorting algorithms ...\n",
              "4  Given the tree: a / \\ b c / \\ / \\ e f g hWhat ...  ...  Given the tree: a / \\ b c / \\ / \\ e f g hWhat ...\n",
              "\n",
              "[5 rows x 4 columns]"
            ]
          },
          "metadata": {
            "tags": []
          },
          "execution_count": 26
        }
      ]
    },
    {
      "cell_type": "code",
      "metadata": {
        "colab": {
          "base_uri": "https://localhost:8080/"
        },
        "id": "IjNAMBB3FtaU",
        "outputId": "6e1f01b5-b64c-4443-9a38-5f4da142098a"
      },
      "source": [
        "data1[\"Q+A\"].head()"
      ],
      "execution_count": null,
      "outputs": [
        {
          "output_type": "execute_result",
          "data": {
            "text/plain": [
              "0    The runtime for the following code fragment is...\n",
              "1    Given the binary search algorithm, as taught i...\n",
              "2    An algorithm has time complexity . Using the D...\n",
              "3    Which one of the following sorting algorithms ...\n",
              "4    Given the tree: a / \\ b c / \\ / \\ e f g hWhat ...\n",
              "Name: Q+A, dtype: object"
            ]
          },
          "metadata": {
            "tags": []
          },
          "execution_count": 27
        }
      ]
    },
    {
      "cell_type": "code",
      "metadata": {
        "id": "A-bOyFnlGb6c"
      },
      "source": [
        ""
      ],
      "execution_count": null,
      "outputs": []
    }
  ]
}